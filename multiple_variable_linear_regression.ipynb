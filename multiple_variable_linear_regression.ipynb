{
 "cells": [
  {
   "cell_type": "code",
   "execution_count": 54,
   "metadata": {},
   "outputs": [],
   "source": [
    "import numpy as np"
   ]
  },
  {
   "cell_type": "code",
   "execution_count": 55,
   "metadata": {},
   "outputs": [],
   "source": [
    "X_train = np.array([[2104, 5, 1, 45], \n",
    "           [1416, 3, 2, 40], \n",
    "           [852, 2, 1, 35]])\n",
    "\n",
    "y_train = np.array([460, 232, 178])"
   ]
  },
  {
   "cell_type": "code",
   "execution_count": 56,
   "metadata": {},
   "outputs": [],
   "source": [
    "def compute_gradient(X, y, w, b):\n",
    "\n",
    "\n",
    "    m, n = np.shape(X)\n",
    "\n",
    "    dj_dw = np.zeros((n,))\n",
    "\n",
    "    dj_db = 0\n",
    "\n",
    "\n",
    "    for i in range(m):\n",
    "        err = (np.dot(X[i], w) + b - y[i])\n",
    "        for j in range(n):\n",
    "            dj_dw[j] += err * X[i, j]\n",
    "        dj_db += err\n",
    "    dj_dw = dj_dw / m\n",
    "    dj_db = dj_db / m\n",
    "\n",
    "    return dj_db, dj_dw"
   ]
  },
  {
   "cell_type": "code",
   "execution_count": 57,
   "metadata": {},
   "outputs": [],
   "source": [
    "def gradient_descent(X, y, w, b, gradient_function, alpha, num_iters):\n",
    "\n",
    "    for i in range(num_iters):\n",
    "\n",
    "        dj_db, dj_dw = gradient_function(X, y, w, b)\n",
    "\n",
    "        w = w - alpha * dj_dw\n",
    "\n",
    "        b = b - alpha * dj_db\n",
    "    \n",
    "\n",
    "    return w, b"
   ]
  },
  {
   "cell_type": "code",
   "execution_count": 58,
   "metadata": {},
   "outputs": [
    {
     "name": "stdout",
     "output_type": "stream",
     "text": [
      "[nan nan nan nan] nan\n"
     ]
    },
    {
     "name": "stderr",
     "output_type": "stream",
     "text": [
      "/var/folders/15/txb5fw214h17glq1xh1l0h3c0000gn/T/ipykernel_49357/4212165819.py:14: RuntimeWarning: overflow encountered in scalar multiply\n",
      "  dj_dw[j] += err * X[i, j]\n",
      "/var/folders/15/txb5fw214h17glq1xh1l0h3c0000gn/T/ipykernel_49357/1606018857.py:7: RuntimeWarning: invalid value encountered in subtract\n",
      "  w = w - alpha * dj_dw\n"
     ]
    }
   ],
   "source": [
    "initial_w = np.zeros(4)\n",
    "\n",
    "initial_b = 0\n",
    "\n",
    "\n",
    "w, b = gradient_descent(X_train, y_train, initial_w, initial_b, compute_gradient, 10**(-3), 1000)\n",
    "\n",
    "print(w, b)"
   ]
  },
  {
   "cell_type": "code",
   "execution_count": null,
   "metadata": {},
   "outputs": [],
   "source": []
  }
 ],
 "metadata": {
  "kernelspec": {
   "display_name": "Python 3",
   "language": "python",
   "name": "python3"
  },
  "language_info": {
   "codemirror_mode": {
    "name": "ipython",
    "version": 3
   },
   "file_extension": ".py",
   "mimetype": "text/x-python",
   "name": "python",
   "nbconvert_exporter": "python",
   "pygments_lexer": "ipython3",
   "version": "3.12.1"
  }
 },
 "nbformat": 4,
 "nbformat_minor": 2
}
